{
 "cells": [
  {
   "cell_type": "code",
   "execution_count": 13,
   "id": "23703c36",
   "metadata": {},
   "outputs": [],
   "source": [
    "\n",
    "from semantic_uncertainty.uncertainty import utils\n",
    "import pickle\n",
    "import torch\n",
    "import numpy as np\n",
    "import os\n",
    "from sentence_transformers import SentenceTransformer, util\n",
    "import time\n",
    "import pandas as pd\n",
    "from uncertainty.uncertainty_measures.semantic_entropy import cluster_assignment_entropy, logsumexp_by_id, predictive_entropy_rao\n"
   ]
  },
  {
   "cell_type": "code",
   "execution_count": 14,
   "id": "2648add1",
   "metadata": {},
   "outputs": [],
   "source": [
    "# Model for computing sentence embeddings. We use one trained for similar questions detection\n",
    "# model = SentenceTransformer(\"all-MiniLM-L6-v2\")\n"
   ]
  },
  {
   "cell_type": "code",
   "execution_count": 15,
   "id": "88560926",
   "metadata": {},
   "outputs": [],
   "source": [
    "def restore (filepath) :\n",
    "    \"\"\"\n",
    "    read a pickle file and restore the object\n",
    "    \"\"\"\n",
    "    with open(filepath, 'rb') as f:\n",
    "        obj = pickle.load(f)\n",
    "    return obj"
   ]
  },
  {
   "cell_type": "code",
   "execution_count": 16,
   "id": "682f2f88",
   "metadata": {},
   "outputs": [],
   "source": [
    "run_id = \"latest-run\" # latest-run for latest run\n",
    "output_dir = f\"../A-Rush-R/uncertainty/wandb/{run_id}/files\"\n",
    "\n",
    "results_path = os.path.join(output_dir, \"uncertainty_measures.pkl\")\n",
    "answers_path = os.path.join(output_dir, \"train_generations.pkl\")\n",
    "\n",
    "\n",
    "results = restore(results_path)\n",
    "answers = restore(answers_path)"
   ]
  },
  {
   "cell_type": "code",
   "execution_count": 17,
   "id": "fc6e3902",
   "metadata": {},
   "outputs": [
    {
     "name": "stdout",
     "output_type": "stream",
     "text": [
      "Key: uncertainty_measures\n",
      "Value: 1318\n",
      "Key: semantic_ids\n",
      "Value: 5\n",
      "Key: graphs\n",
      "Value: 5\n",
      "Key: validation_is_false\n",
      "Value: 5\n",
      "Key: validation_unanswerable\n",
      "Value: 5\n",
      "Entropy dict keys: dict_keys(['cluster_assignment_entropy', 'regular_entropy', 'semantic_entropy', 'heat_t=0.1_kernel_entropy', 'heatn_t=0.1_kernel_entropy', 'heat_t=0.2_kernel_entropy', 'heatn_t=0.2_kernel_entropy', 'heat_t=0.3_kernel_entropy', 'heatn_t=0.3_kernel_entropy', 'heat_t=0.4_kernel_entropy', 'heatn_t=0.4_kernel_entropy', 'heat_t=0.5_kernel_entropy', 'heatn_t=0.5_kernel_entropy', 'heat_t=0.6_kernel_entropy', 'heatn_t=0.6_kernel_entropy', 'heat_t=0.7_kernel_entropy', 'heatn_t=0.7_kernel_entropy', 'matern_kappa=1.0_nu=1.0_kernel_entropy', 'maternn_kappa=1.0_nu=1.0_kernel_entropy', 'matern_kappa=1.0_nu=2.0_kernel_entropy', 'maternn_kappa=1.0_nu=2.0_kernel_entropy', 'matern_kappa=1.0_nu=3.0_kernel_entropy', 'maternn_kappa=1.0_nu=3.0_kernel_entropy', 'matern_kappa=2.0_nu=1.0_kernel_entropy', 'maternn_kappa=2.0_nu=1.0_kernel_entropy', 'matern_kappa=2.0_nu=2.0_kernel_entropy', 'maternn_kappa=2.0_nu=2.0_kernel_entropy', 'matern_kappa=2.0_nu=3.0_kernel_entropy', 'maternn_kappa=2.0_nu=3.0_kernel_entropy', 'matern_kappa=3.0_nu=1.0_kernel_entropy', 'maternn_kappa=3.0_nu=1.0_kernel_entropy', 'matern_kappa=3.0_nu=2.0_kernel_entropy', 'maternn_kappa=3.0_nu=2.0_kernel_entropy', 'matern_kappa=3.0_nu=3.0_kernel_entropy', 'maternn_kappa=3.0_nu=3.0_kernel_entropy', 'weighted_heat_t=0.1_kernel_entropy', 'weighted_heatn_t=0.1_kernel_entropy', 'weighted_heat_t=0.2_kernel_entropy', 'weighted_heatn_t=0.2_kernel_entropy', 'weighted_heat_t=0.3_kernel_entropy', 'weighted_heatn_t=0.3_kernel_entropy', 'weighted_heat_t=0.4_kernel_entropy', 'weighted_heatn_t=0.4_kernel_entropy', 'weighted_heat_t=0.5_kernel_entropy', 'weighted_heatn_t=0.5_kernel_entropy', 'weighted_heat_t=0.6_kernel_entropy', 'weighted_heatn_t=0.6_kernel_entropy', 'weighted_heat_t=0.7_kernel_entropy', 'weighted_heatn_t=0.7_kernel_entropy', 'weighted_matern_kappa=1.0_nu=1.0_kernel_entropy', 'weighted_maternn_kappa=1.0_nu=1.0_kernel_entropy', 'weighted_matern_kappa=1.0_nu=2.0_kernel_entropy', 'weighted_maternn_kappa=1.0_nu=2.0_kernel_entropy', 'weighted_matern_kappa=1.0_nu=3.0_kernel_entropy', 'weighted_maternn_kappa=1.0_nu=3.0_kernel_entropy', 'weighted_matern_kappa=2.0_nu=1.0_kernel_entropy', 'weighted_maternn_kappa=2.0_nu=1.0_kernel_entropy', 'weighted_matern_kappa=2.0_nu=2.0_kernel_entropy', 'weighted_maternn_kappa=2.0_nu=2.0_kernel_entropy', 'weighted_matern_kappa=2.0_nu=3.0_kernel_entropy', 'weighted_maternn_kappa=2.0_nu=3.0_kernel_entropy', 'weighted_matern_kappa=3.0_nu=1.0_kernel_entropy', 'weighted_maternn_kappa=3.0_nu=1.0_kernel_entropy', 'weighted_matern_kappa=3.0_nu=2.0_kernel_entropy', 'weighted_maternn_kappa=3.0_nu=2.0_kernel_entropy', 'weighted_matern_kappa=3.0_nu=3.0_kernel_entropy', 'weighted_maternn_kappa=3.0_nu=3.0_kernel_entropy', 'weighted_deberta_heat_t=0.1_kernel_entropy', 'weighted_deberta_heatn_t=0.1_kernel_entropy', 'weighted_deberta_heat_t=0.2_kernel_entropy', 'weighted_deberta_heatn_t=0.2_kernel_entropy', 'weighted_deberta_heat_t=0.3_kernel_entropy', 'weighted_deberta_heatn_t=0.3_kernel_entropy', 'weighted_deberta_heat_t=0.4_kernel_entropy', 'weighted_deberta_heatn_t=0.4_kernel_entropy', 'weighted_deberta_heat_t=0.5_kernel_entropy', 'weighted_deberta_heatn_t=0.5_kernel_entropy', 'weighted_deberta_heat_t=0.6_kernel_entropy', 'weighted_deberta_heatn_t=0.6_kernel_entropy', 'weighted_deberta_heat_t=0.7_kernel_entropy', 'weighted_deberta_heatn_t=0.7_kernel_entropy', 'weighted_deberta_matern_kappa=1.0_nu=1.0_kernel_entropy', 'weighted_deberta_maternn_kappa=1.0_nu=1.0_kernel_entropy', 'weighted_deberta_matern_kappa=1.0_nu=2.0_kernel_entropy', 'weighted_deberta_maternn_kappa=1.0_nu=2.0_kernel_entropy', 'weighted_deberta_matern_kappa=1.0_nu=3.0_kernel_entropy', 'weighted_deberta_maternn_kappa=1.0_nu=3.0_kernel_entropy', 'weighted_deberta_matern_kappa=2.0_nu=1.0_kernel_entropy', 'weighted_deberta_maternn_kappa=2.0_nu=1.0_kernel_entropy', 'weighted_deberta_matern_kappa=2.0_nu=2.0_kernel_entropy', 'weighted_deberta_maternn_kappa=2.0_nu=2.0_kernel_entropy', 'weighted_deberta_matern_kappa=2.0_nu=3.0_kernel_entropy', 'weighted_deberta_maternn_kappa=2.0_nu=3.0_kernel_entropy', 'weighted_deberta_matern_kappa=3.0_nu=1.0_kernel_entropy', 'weighted_deberta_maternn_kappa=3.0_nu=1.0_kernel_entropy', 'weighted_deberta_matern_kappa=3.0_nu=2.0_kernel_entropy', 'weighted_deberta_maternn_kappa=3.0_nu=2.0_kernel_entropy', 'weighted_deberta_matern_kappa=3.0_nu=3.0_kernel_entropy', 'weighted_deberta_maternn_kappa=3.0_nu=3.0_kernel_entropy'])\n"
     ]
    }
   ],
   "source": [
    "for key in results.keys():\n",
    "    print(f\"Key: {key}\")\n",
    "    print(f\"Value: {len(results[key])}\")\n",
    "    \n",
    "entropy_dict = {}\n",
    "for key in results['uncertainty_measures'].keys():\n",
    "    if key.endswith(\"entropy\"):\n",
    "        entropy_dict[key] = results['uncertainty_measures'][key]\n",
    "\n",
    "print(f\"Entropy dict keys: {entropy_dict.keys()}\")"
   ]
  },
  {
   "cell_type": "markdown",
   "id": "de89d1da",
   "metadata": {},
   "source": [
    "## ID's analysis"
   ]
  },
  {
   "cell_type": "code",
   "execution_count": 19,
   "id": "2b39ad2a",
   "metadata": {},
   "outputs": [
    {
     "name": "stdout",
     "output_type": "stream",
     "text": [
      "[0, 1, 0, 2, 0]\n"
     ]
    }
   ],
   "source": [
    "# retrieve the corpus_sentences to the first question\n",
    "i = 0\n",
    "question_id = list(answers.keys())[i]\n",
    "responses = answers[question_id]['responses']\n",
    "\n",
    "# each question has a list of responses, that have semantic id's\n",
    "semantic_ids = results['semantic_ids'][i]\n",
    "corpus_sentences = [x[0] for x in responses]\n",
    "log_liks = [x[1] for x in responses]\n",
    "log_liks_agg = [np.mean(log_lik) for log_lik in log_liks]\n",
    "\n",
    "print(semantic_ids)"
   ]
  },
  {
   "cell_type": "code",
   "execution_count": 20,
   "id": "f9ec1f2c",
   "metadata": {},
   "outputs": [],
   "source": [
    "semantic_entropy = entropy_dict['semantic_entropy'][i]\n",
    "regular_entropy = entropy_dict['regular_entropy'][i]\n",
    "kernel_entropy = entropy_dict['heat_t=0.1_kernel_entropy'][i]\n",
    "cluster_entropy = entropy_dict['cluster_assignment_entropy'][i]\n"
   ]
  },
  {
   "cell_type": "markdown",
   "id": "a0a53261",
   "metadata": {},
   "source": [
    "### Generate semantic id's using the responses and similarity metric"
   ]
  },
  {
   "cell_type": "markdown",
   "id": "eea97bdb",
   "metadata": {},
   "source": [
    "#### 1. [fast clustering](https://github.com/UKPLab/sentence-transformers/blob/master/examples/sentence_transformer/applications/clustering/fast_clustering.py)"
   ]
  },
  {
   "cell_type": "code",
   "execution_count": 21,
   "id": "6ec51b16",
   "metadata": {},
   "outputs": [
    {
     "name": "stdout",
     "output_type": "stream",
     "text": [
      "Encode the corpus. This might take a while\n",
      "Successfully loaded embeds\n",
      "Start clustering\n",
      "Clustering done after 0.09 sec\n",
      "\n",
      "Cluster 1, #3 Elements \n",
      "\t 406\n",
      "\t 406\n",
      "\t 406\n",
      "\t ...\n",
      "\t 406\n",
      "\t 406\n",
      "\t 406\n",
      "\n",
      "Cluster 2, #1 Elements \n",
      "\t 132\n",
      "\t ...\n",
      "\t 132\n",
      "\n",
      "Cluster 3, #1 Elements \n",
      "\t 129\n",
      "\t ...\n",
      "\t 129\n"
     ]
    },
    {
     "name": "stderr",
     "output_type": "stream",
     "text": [
      "/tmp/ipykernel_106622/61610000.py:7: FutureWarning: You are using `torch.load` with `weights_only=False` (the current default value), which uses the default pickle module implicitly. It is possible to construct malicious pickle data which will execute arbitrary code during unpickling (See https://github.com/pytorch/pytorch/blob/main/SECURITY.md#untrusted-models for more details). In a future release, the default value for `weights_only` will be flipped to `True`. This limits the functions that could be executed during unpickling. Arbitrary objects will no longer be allowed to be loaded via this mode unless they are explicitly allowlisted by the user via `torch.serialization.add_safe_globals`. We recommend you start setting `weights_only=True` for any use case where you don't have full control of the loaded file. Please open an issue on GitHub for any issues related to this experimental feature.\n",
      "  corpus_embeddings = torch.load(embeds_path)\n"
     ]
    }
   ],
   "source": [
    "corpus_sentences = list(corpus_sentences)\n",
    "print(\"Encode the corpus. This might take a while\")\n",
    "\n",
    "embeds_path = f\"corpus_embeds_{i}.pkl\"\n",
    "\n",
    "if os.path.exists(embeds_path): \n",
    "    corpus_embeddings = torch.load(embeds_path)\n",
    "    print(\"Successfully loaded embeds\")\n",
    "else :\n",
    "    corpus_embeddings = model.encode(corpus_sentecommunity_detectionnces, batch_size=64, show_progress_bar=True, convert_to_tensor=True)\n",
    "    torch.save(corpus_embeddings, embeds_path)\n",
    "    print(\"Successfully saved embeds\")\n",
    "\n",
    "print(\"Start clustering\")\n",
    "start_time = time.time()\n",
    "\n",
    "# Two parameters to tune:\n",
    "# min_cluster_size: Only consider cluster that have at least 25 elements\n",
    "# threshold: Consider sentence pairs with a cosine-similarity larger than threshold as similar\n",
    "clusters = util.community_detection(corpus_embeddings, min_community_size=1, threshold=0.8)\n",
    "\n",
    "print(f\"Clustering done after {time.time() - start_time:.2f} sec\")\n",
    "\n",
    "# Print for all clusters the top 3 and bottom 3 elements\n",
    "for i, cluster in enumerate(clusters):\n",
    "    print(f\"\\nCluster {i + 1}, #{len(cluster)} Elements \")\n",
    "    for sentence_id in cluster[0:3]:\n",
    "        print(\"\\t\", corpus_sentences[sentence_id])\n",
    "    print(\"\\t\", \"...\")\n",
    "    for sentence_id in cluster[-3:]:\n",
    "        print(\"\\t\", corpus_sentences[sentence_id])\n",
    "\n",
    "new_semantic_ids = np.array([0] * len(responses))\n",
    "\n",
    "for i, cluster in enumerate(clusters):\n",
    "    for idx in cluster:\n",
    "        new_semantic_ids[idx] = i"
   ]
  },
  {
   "cell_type": "markdown",
   "id": "e7ac4950",
   "metadata": {},
   "source": [
    "Comparision with semantic id's"
   ]
  },
  {
   "cell_type": "code",
   "execution_count": 22,
   "id": "71888ad3",
   "metadata": {},
   "outputs": [],
   "source": [
    "# Plot the answer and new semantic id and the semantic id\n",
    "df = pd.DataFrame({\n",
    "    'answer': corpus_sentences,\n",
    "    'semantic_id': semantic_ids,\n",
    "    'new_semantic_id': new_semantic_ids\n",
    "})\n",
    "\n",
    "new_cluster_entropy = cluster_assignment_entropy(df['new_semantic_id'].values)\n",
    "\n",
    "\n",
    "# Compute semantic entropy.\n",
    "unique_ids, log_likelihood_per_semantic_id = logsumexp_by_id(semantic_ids, log_liks_agg, agg='sum_normalized')\n",
    "new_semantic_entropy = predictive_entropy_rao(log_likelihood_per_semantic_id)\n"
   ]
  },
  {
   "cell_type": "code",
   "execution_count": 23,
   "id": "e326b42c",
   "metadata": {},
   "outputs": [
    {
     "name": "stdout",
     "output_type": "stream",
     "text": [
      "Entropy Type           Value     \n",
      "------------------------------\n",
      "Cluster Entropy        0.9503    \n",
      "Regular Entropy        0.9261    \n",
      "Semantic Entropy       0.5483    \n",
      "Kernel Entropy         1.5855    \n",
      "New Cluster Entropy    0.9503    \n",
      "New Semantic Entropy   1.0185    \n"
     ]
    },
    {
     "data": {
      "text/html": [
       "<div>\n",
       "<style scoped>\n",
       "    .dataframe tbody tr th:only-of-type {\n",
       "        vertical-align: middle;\n",
       "    }\n",
       "\n",
       "    .dataframe tbody tr th {\n",
       "        vertical-align: top;\n",
       "    }\n",
       "\n",
       "    .dataframe thead th {\n",
       "        text-align: right;\n",
       "    }\n",
       "</style>\n",
       "<table border=\"1\" class=\"dataframe\">\n",
       "  <thead>\n",
       "    <tr style=\"text-align: right;\">\n",
       "      <th></th>\n",
       "      <th>answer</th>\n",
       "      <th>semantic_id</th>\n",
       "      <th>new_semantic_id</th>\n",
       "    </tr>\n",
       "  </thead>\n",
       "  <tbody>\n",
       "    <tr>\n",
       "      <th>0</th>\n",
       "      <td>406</td>\n",
       "      <td>0</td>\n",
       "      <td>0</td>\n",
       "    </tr>\n",
       "    <tr>\n",
       "      <th>1</th>\n",
       "      <td>132</td>\n",
       "      <td>1</td>\n",
       "      <td>1</td>\n",
       "    </tr>\n",
       "    <tr>\n",
       "      <th>2</th>\n",
       "      <td>406</td>\n",
       "      <td>0</td>\n",
       "      <td>0</td>\n",
       "    </tr>\n",
       "    <tr>\n",
       "      <th>3</th>\n",
       "      <td>406</td>\n",
       "      <td>2</td>\n",
       "      <td>0</td>\n",
       "    </tr>\n",
       "    <tr>\n",
       "      <th>4</th>\n",
       "      <td>129</td>\n",
       "      <td>0</td>\n",
       "      <td>2</td>\n",
       "    </tr>\n",
       "  </tbody>\n",
       "</table>\n",
       "</div>"
      ],
      "text/plain": [
       "  answer  semantic_id  new_semantic_id\n",
       "0    406            0                0\n",
       "1    132            1                1\n",
       "2    406            0                0\n",
       "3    406            2                0\n",
       "4    129            0                2"
      ]
     },
     "execution_count": 23,
     "metadata": {},
     "output_type": "execute_result"
    }
   ],
   "source": [
    "print(f\"{'Entropy Type':<22} {'Value':<10}\")\n",
    "print(\"-\" * 30)\n",
    "print(f\"{'Cluster Entropy':<22} {cluster_entropy:<10.4f}\")\n",
    "print(f\"{'Regular Entropy':<22} {regular_entropy:<10.4f}\")\n",
    "print(f\"{'Semantic Entropy':<22} {semantic_entropy:<10.4f}\")\n",
    "print(f\"{'Kernel Entropy':<22} {kernel_entropy:<10.4f}\")\n",
    "print(f\"{'New Cluster Entropy':<22} {new_cluster_entropy:<10.4f}\")\n",
    "print(f\"{'New Semantic Entropy':<22} {new_semantic_entropy:<10.4f}\")\n",
    "\n",
    "df\n"
   ]
  }
 ],
 "metadata": {
  "kernelspec": {
   "display_name": "kernel_language_entropy",
   "language": "python",
   "name": "python3"
  },
  "language_info": {
   "codemirror_mode": {
    "name": "ipython",
    "version": 3
   },
   "file_extension": ".py",
   "mimetype": "text/x-python",
   "name": "python",
   "nbconvert_exporter": "python",
   "pygments_lexer": "ipython3",
   "version": "3.11.11"
  }
 },
 "nbformat": 4,
 "nbformat_minor": 5
}
