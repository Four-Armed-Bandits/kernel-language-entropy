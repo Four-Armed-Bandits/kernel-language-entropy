{
 "cells": [
  {
   "cell_type": "code",
   "execution_count": 101,
   "id": "23703c36",
   "metadata": {},
   "outputs": [],
   "source": [
    "from semantic_uncertainty.uncertainty import utils\n",
    "import pickle\n",
    "import numpy as np\n",
    "import os\n",
    "from sentence_transformers import SentenceTransformer, util\n",
    "import time\n"
   ]
  },
  {
   "cell_type": "code",
   "execution_count": 102,
   "id": "2648add1",
   "metadata": {},
   "outputs": [],
   "source": [
    "# Model for computing sentence embeddings. We use one trained for similar questions detection\n",
    "model = SentenceTransformer(\"all-MiniLM-L6-v2\")\n"
   ]
  },
  {
   "cell_type": "code",
   "execution_count": 103,
   "id": "88560926",
   "metadata": {},
   "outputs": [],
   "source": [
    "def restore (filepath) :\n",
    "    \"\"\"\n",
    "    read a pickle file and restore the object\n",
    "    \"\"\"\n",
    "    with open(filepath, 'rb') as f:\n",
    "        obj = pickle.load(f)\n",
    "    return obj"
   ]
  },
  {
   "cell_type": "code",
   "execution_count": 104,
   "id": "682f2f88",
   "metadata": {},
   "outputs": [],
   "source": [
    "run_id = \"latest-run\" # latest-run for latest run\n",
    "output_dir = f\"A-Rush-R/uncertainty/wandb/{run_id}/files\"\n",
    "\n",
    "results_path = os.path.join(output_dir, \"uncertainty_measures.pkl\")\n",
    "answers_path = os.path.join(output_dir, \"train_generations.pkl\")\n",
    "\n",
    "\n",
    "results = restore(results_path)\n",
    "answers = restore(answers_path)"
   ]
  },
  {
   "cell_type": "markdown",
   "id": "5d38c3e2",
   "metadata": {},
   "source": [
    "### Debugging"
   ]
  },
  {
   "cell_type": "code",
   "execution_count": 105,
   "id": "fc6e3902",
   "metadata": {},
   "outputs": [
    {
     "name": "stdout",
     "output_type": "stream",
     "text": [
      "Key: uncertainty_measures\n",
      "Value: 1318\n",
      "Key: semantic_ids\n",
      "Value: 5\n",
      "Key: graphs\n",
      "Value: 5\n",
      "Key: validation_is_false\n",
      "Value: 5\n",
      "Key: validation_unanswerable\n",
      "Value: 5\n",
      "[[0, 1, 0, 2, 0], [0, 1, 0, 2, 0], [0, 1, 2, 3, 4], [0, 1, 2, 3, 4], [0, 1, 2, 2, 3]]\n"
     ]
    }
   ],
   "source": [
    "for key in results.keys():\n",
    "    print(f\"Key: {key}\")\n",
    "    print(f\"Value: {len(results[key])}\")\n",
    "    \n",
    "print(results[\"semantic_ids\"])"
   ]
  },
  {
   "cell_type": "code",
   "execution_count": 106,
   "id": "20d11455",
   "metadata": {},
   "outputs": [
    {
     "data": {
      "text/plain": [
       "[0.5482929330011391,\n",
       " 0.5792597219026698,\n",
       " 1.4792809189749923,\n",
       " 1.582697469347715,\n",
       " 1.1640771350975672]"
      ]
     },
     "execution_count": 106,
     "metadata": {},
     "output_type": "execute_result"
    }
   ],
   "source": [
    "results['uncertainty_measures']['semantic_entropy']"
   ]
  },
  {
   "cell_type": "code",
   "execution_count": 107,
   "id": "1c9f101a",
   "metadata": {},
   "outputs": [
    {
     "name": "stdout",
     "output_type": "stream",
     "text": [
      "chal-173\n",
      "  context\n",
      "      <class 'str'>\n",
      "        86\n",
      "        Frank had some pieces of candy. If he put them into 26 bags with 33 pieces in each bag\n",
      "  most_likely_answer\n",
      "      <class 'dict'>\n",
      "        accuracy\n",
      "            <class 'float'>\n",
      "                  0.0\n",
      "        embedding\n",
      "            <class 'torch.Tensor'>\n",
      "                  torch.Size([1, 2048])\n",
      "                  tensor([[-0.0683,  2.4701,  0.9007,  ..., -5.6090,  0.0349, -0.8314]])\n",
      "        response\n",
      "            <class 'str'>\n",
      "                  9\n",
      "        token_log_likelihoods\n",
      "            <class 'list'>\n",
      "                  2\n",
      "                  [0.0, -0.7643496990203857]\n",
      "  question\n",
      "      <class 'str'>\n",
      "        37\n",
      "        How many pieces of candy did he have?\n",
      "  reference\n",
      "      <class 'dict'>\n",
      "        answers\n",
      "            <class 'dict'>\n",
      "                  {'answer_start': [], 'text': ['858']}\n",
      "        id\n",
      "            <class 'str'>\n",
      "                  chal-173\n",
      "  responses\n",
      "      <class 'list'>\n",
      "        5\n",
      "        [('27', [0.0, -3.358163356781006], tensor([[-0.0683,  2.4701,  0.9007,  ..., -5.6090,  0.0349, -0.8314]]), 0.0), ('69', [0.0, -4.298318386077881], tensor([[-0.0683,  2.4701,  0.9007,  ..., -5.6090,  0.0349, -0.8314]]), 0.0), ('13', [0.0, -2.9865355491638184], tensor([[-0.0683,  2.4701,  0.9007,  ..., -5.6090,  0.0349, -0.8314]]), 0.0), ('69', [0.0, -4.298318386077881], tensor([[-0.0683,  2.4701,  0.9007,  ..., -5.6090,  0.0349, -0.8314]]), 0.0), ('33', [0.0, -3.8821864128112793], tensor([[-0.0683,  2.4701,  0.9007,  ..., -5.6090,  0.0349, -0.8314]]), 0.0)]\n",
      "--------------------------------------------------------------------------------------------------------------------------------------------------------------------------------------------------------\n",
      "chal-32\n",
      "  context\n",
      "      <class 'str'>\n",
      "        162\n",
      "        There were 15 roses and 62 orchids in the vase. Jessica cut some more roses and orchids from her flower garden. There are now 17 roses and 96 orchids in the vase.\n",
      "  most_likely_answer\n",
      "      <class 'dict'>\n",
      "        accuracy\n",
      "            <class 'float'>\n",
      "                  0.0\n",
      "        embedding\n",
      "            <class 'torch.Tensor'>\n",
      "                  torch.Size([1, 2048])\n",
      "                  tensor([[ 0.2922,  2.2575, -0.1470,  ..., -5.3917, -0.6385, -0.3865]])\n",
      "        response\n",
      "            <class 'str'>\n",
      "                  7\n",
      "        token_log_likelihoods\n",
      "            <class 'list'>\n",
      "                  2\n",
      "                  [0.0, 0.0]\n",
      "  question\n",
      "      <class 'str'>\n",
      "        27\n",
      "        How many roses did she cut?\n",
      "  reference\n",
      "      <class 'dict'>\n",
      "        answers\n",
      "            <class 'dict'>\n",
      "                  {'answer_start': [], 'text': ['2']}\n",
      "        id\n",
      "            <class 'str'>\n",
      "                  chal-32\n",
      "  responses\n",
      "      <class 'list'>\n",
      "        5\n",
      "        [('7', [0.0, -1.281023383140564], tensor([[ 0.2922,  2.2575, -0.1470,  ..., -5.3917, -0.6385, -0.3865]]), 0.0), ('4', [0.0, -3.4664673805236816], tensor([[ 0.2922,  2.2575, -0.1470,  ..., -5.3917, -0.6385, -0.3865]]), 0.0), ('7', [0.0, -1.281023383140564], tensor([[ 0.2922,  2.2575, -0.1470,  ..., -5.3917, -0.6385, -0.3865]]), 0.0), ('7', [0.0, -1.281023383140564], tensor([[ 0.2922,  2.2575, -0.1470,  ..., -5.3917, -0.6385, -0.3865]]), 0.0), ('7', [0.0, -1.281023383140564], tensor([[ 0.2922,  2.2575, -0.1470,  ..., -5.3917, -0.6385, -0.3865]]), 0.0)]\n",
      "--------------------------------------------------------------------------------------------------------------------------------------------------------------------------------------------------------\n",
      "chal-476\n",
      "  context\n",
      "      <class 'str'>\n",
      "        110\n",
      "        There are 10 peaches distributed equally in some baskets. If each basket has 4 red peaches and 6 green peaches\n",
      "  most_likely_answer\n",
      "      <class 'dict'>\n",
      "        accuracy\n",
      "            <class 'float'>\n",
      "                  0.0\n",
      "        embedding\n",
      "            <class 'torch.Tensor'>\n",
      "                  torch.Size([1, 2048])\n",
      "                  tensor([[ 0.5382,  2.4741,  1.0380,  ..., -3.2321, -0.8733, -0.9306]])\n",
      "        response\n",
      "            <class 'str'>\n",
      "                  2\n",
      "        token_log_likelihoods\n",
      "            <class 'list'>\n",
      "                  2\n",
      "                  [0.0, 0.0]\n",
      "  question\n",
      "      <class 'str'>\n",
      "        38\n",
      "        How many baskets of peaches are there?\n",
      "  reference\n",
      "      <class 'dict'>\n",
      "        answers\n",
      "            <class 'dict'>\n",
      "                  {'answer_start': [], 'text': ['1']}\n",
      "        id\n",
      "            <class 'str'>\n",
      "                  chal-476\n",
      "  responses\n",
      "      <class 'list'>\n",
      "        5\n",
      "        [('2', [0.0, -1.0820393562316895], tensor([[ 0.5382,  2.4741,  1.0380,  ..., -3.2321, -0.8733, -0.9306]]), 0.0), ('5', [0.0, -1.3765130043029785], tensor([[ 0.5382,  2.4741,  1.0380,  ..., -3.2321, -0.8733, -0.9306]]), 0.0), ('2', [0.0, -1.0820393562316895], tensor([[ 0.5382,  2.4741,  1.0380,  ..., -3.2321, -0.8733, -0.9306]]), 0.0), ('20', [0.0, -2.4265904426574707], tensor([[ 0.5382,  2.4741,  1.0380,  ..., -3.2321, -0.8733, -0.9306]]), 0.0), ('15', [0.0, -3.8462910652160645], tensor([[ 0.5382,  2.4741,  1.0380,  ..., -3.2321, -0.8733, -0.9306]]), 0.0)]\n",
      "--------------------------------------------------------------------------------------------------------------------------------------------------------------------------------------------------------\n",
      "chal-646\n",
      "  context\n",
      "      <class 'str'>\n",
      "        53\n",
      "        Baker sold 8 cakes. If he had made 40 cakes initially\n",
      "  most_likely_answer\n",
      "      <class 'dict'>\n",
      "        accuracy\n",
      "            <class 'float'>\n",
      "                  1.0\n",
      "        embedding\n",
      "            <class 'torch.Tensor'>\n",
      "                  torch.Size([1, 2048])\n",
      "                  tensor([[ 1.1329,  2.8061,  0.5622,  ..., -4.3090,  0.0240,  0.0729]])\n",
      "        response\n",
      "            <class 'str'>\n",
      "                  32\n",
      "        token_log_likelihoods\n",
      "            <class 'list'>\n",
      "                  2\n",
      "                  [0.0, 0.0]\n",
      "  question\n",
      "      <class 'str'>\n",
      "        54\n",
      "        How many more cakes did baker make than those he sold?\n",
      "  reference\n",
      "      <class 'dict'>\n",
      "        answers\n",
      "            <class 'dict'>\n",
      "                  {'answer_start': [], 'text': ['32']}\n",
      "        id\n",
      "            <class 'str'>\n",
      "                  chal-646\n",
      "  responses\n",
      "      <class 'list'>\n",
      "        5\n",
      "        [('32', [0.0, -0.2989877462387085], tensor([[ 1.1329,  2.8061,  0.5622,  ..., -4.3090,  0.0240,  0.0729]]), 1.0), ('32', [0.0, -0.2989877462387085], tensor([[ 1.1329,  2.8061,  0.5622,  ..., -4.3090,  0.0240,  0.0729]]), 1.0), ('32', [0.0, -0.2989877462387085], tensor([[ 1.1329,  2.8061,  0.5622,  ..., -4.3090,  0.0240,  0.0729]]), 1.0), ('32', [0.0, -0.2989877462387085], tensor([[ 1.1329,  2.8061,  0.5622,  ..., -4.3090,  0.0240,  0.0729]]), 1.0), ('8', [0.0, -4.295594692230225], tensor([[ 1.1329,  2.8061,  0.5622,  ..., -4.3090,  0.0240,  0.0729]]), 0.0)]\n",
      "--------------------------------------------------------------------------------------------------------------------------------------------------------------------------------------------------------\n",
      "chal-953\n",
      "  context\n",
      "      <class 'str'>\n",
      "        215\n",
      "        After eating a hearty meal they went to see the Buckingham palace. There, Rachel learned that 132 visitors came to the Buckingham palace that day. If 406 people visited the Buckingham palace within the past 327 days\n",
      "  most_likely_answer\n",
      "      <class 'dict'>\n",
      "        accuracy\n",
      "            <class 'float'>\n",
      "                  0.0\n",
      "        embedding\n",
      "            <class 'torch.Tensor'>\n",
      "                  torch.Size([1, 2048])\n",
      "                  tensor([[ 0.7365,  2.8533,  0.8082,  ..., -4.2090, -0.9721,  0.0092]])\n",
      "        response\n",
      "            <class 'str'>\n",
      "                  406\n",
      "        token_log_likelihoods\n",
      "            <class 'list'>\n",
      "                  2\n",
      "                  [0.0, -0.6528700590133667]\n",
      "  question\n",
      "      <class 'str'>\n",
      "        68\n",
      "        How many visitors visited the Buckingham palace on the previous day?\n",
      "  reference\n",
      "      <class 'dict'>\n",
      "        answers\n",
      "            <class 'dict'>\n",
      "                  {'answer_start': [], 'text': ['274']}\n",
      "        id\n",
      "            <class 'str'>\n",
      "                  chal-953\n",
      "  responses\n",
      "      <class 'list'>\n",
      "        5\n",
      "        [('406', [0.0, -1.5465104579925537], tensor([[ 0.7365,  2.8533,  0.8082,  ..., -4.2090, -0.9721,  0.0092]]), 0.0), ('132', [0.0, -1.5547349452972412], tensor([[ 0.7365,  2.8533,  0.8082,  ..., -4.2090, -0.9721,  0.0092]]), 0.0), ('406', [0.0, -1.5465104579925537], tensor([[ 0.7365,  2.8533,  0.8082,  ..., -4.2090, -0.9721,  0.0092]]), 0.0), ('406', [0.0, -1.5465104579925537], tensor([[ 0.7365,  2.8533,  0.8082,  ..., -4.2090, -0.9721,  0.0092]]), 0.0), ('129', [0.0, -4.444160461425781], tensor([[ 0.7365,  2.8533,  0.8082,  ..., -4.2090, -0.9721,  0.0092]]), 0.0)]\n",
      "--------------------------------------------------------------------------------------------------------------------------------------------------------------------------------------------------------\n"
     ]
    }
   ],
   "source": [
    "for key in sorted(answers.keys()):\n",
    "    print(key)\n",
    "    for next_key in sorted(answers[key].keys()):\n",
    "        print(f\"  {next_key}\")\n",
    "        print(\"     \", type(answers[key][next_key]))\n",
    "        \n",
    "        if isinstance(answers[key][next_key], dict):\n",
    "            for sub_key in sorted(answers[key][next_key].keys()):\n",
    "                print(f\"        {sub_key}\")\n",
    "                print(\"           \", type(answers[key][next_key][sub_key]))\n",
    "                if hasattr(answers[key][next_key][sub_key], \"shape\"):\n",
    "                    print(f\"                  {answers[key][next_key][sub_key].shape}\")\n",
    "                elif isinstance(answers[key][next_key][sub_key], list):\n",
    "                    print(f\"                  {len(answers[key][next_key][sub_key])}\")\n",
    "                print(f\"                  {(answers[key][next_key][sub_key])}\")\n",
    "        else:\n",
    "            if hasattr(answers[key][next_key], \"shape\"):\n",
    "                print(f\"        {answers[key][next_key].shape}\")\n",
    "            else:\n",
    "                print(f\"        {len(answers[key][next_key])}\")\n",
    "            print(f\"        {answers[key][next_key]}\")\n",
    "    print(200 * \"-\")"
   ]
  },
  {
   "cell_type": "markdown",
   "id": "de89d1da",
   "metadata": {},
   "source": [
    "## ID's analysis"
   ]
  },
  {
   "cell_type": "code",
   "execution_count": 108,
   "id": "2b39ad2a",
   "metadata": {},
   "outputs": [
    {
     "name": "stdout",
     "output_type": "stream",
     "text": [
      "[0, 1, 2, 2, 3]\n"
     ]
    }
   ],
   "source": [
    "# retrieve the corpus_sentences to the first question\n",
    "i = 4\n",
    "question_id = list(answers.keys())[i]\n",
    "responses = answers[question_id]['responses']\n",
    "\n",
    "# each question has a list of responses, that have semantic id's\n",
    "semantic_ids = results['semantic_ids'][i]\n",
    "print(semantic_ids)"
   ]
  },
  {
   "cell_type": "code",
   "execution_count": 109,
   "id": "f9ec1f2c",
   "metadata": {},
   "outputs": [
    {
     "name": "stdout",
     "output_type": "stream",
     "text": [
      "5\n"
     ]
    }
   ],
   "source": [
    "print(len(responses))"
   ]
  },
  {
   "cell_type": "markdown",
   "id": "a0a53261",
   "metadata": {},
   "source": [
    "### Generate semantic id's using the responses and similarity metric"
   ]
  },
  {
   "cell_type": "markdown",
   "id": "eea97bdb",
   "metadata": {},
   "source": [
    "#### 1. [fast clustering](https://github.com/UKPLab/sentence-transformers/blob/master/examples/sentence_transformer/applications/clustering/fast_clustering.py)"
   ]
  },
  {
   "cell_type": "markdown",
   "id": "b8cfb24d",
   "metadata": {},
   "source": [
    "demo "
   ]
  },
  {
   "cell_type": "code",
   "execution_count": 110,
   "id": "1a9ebbc3",
   "metadata": {},
   "outputs": [
    {
     "name": "stdout",
     "output_type": "stream",
     "text": [
      "['2', '5', '2', '20', '15']\n"
     ]
    }
   ],
   "source": [
    "corpus_sentences = [x[0] for x in responses]\n",
    "print(corpus_sentences)"
   ]
  },
  {
   "cell_type": "code",
   "execution_count": 111,
   "id": "6ec51b16",
   "metadata": {},
   "outputs": [
    {
     "name": "stdout",
     "output_type": "stream",
     "text": [
      "Encode the corpus. This might take a while\n"
     ]
    },
    {
     "data": {
      "application/vnd.jupyter.widget-view+json": {
       "model_id": "12499ace4b4544ef97a4509a04427d51",
       "version_major": 2,
       "version_minor": 0
      },
      "text/plain": [
       "Batches:   0%|          | 0/1 [00:00<?, ?it/s]"
      ]
     },
     "metadata": {},
     "output_type": "display_data"
    },
    {
     "name": "stdout",
     "output_type": "stream",
     "text": [
      "Start clustering\n",
      "Clustering done after 0.00 sec\n",
      "\n",
      "Cluster 1, #2 Elements \n",
      "\t 2\n",
      "\t 2\n",
      "\t ...\n",
      "\t 2\n",
      "\t 2\n",
      "\n",
      "Cluster 2, #1 Elements \n",
      "\t 5\n",
      "\t ...\n",
      "\t 5\n",
      "\n",
      "Cluster 3, #1 Elements \n",
      "\t 20\n",
      "\t ...\n",
      "\t 20\n",
      "\n",
      "Cluster 4, #1 Elements \n",
      "\t 15\n",
      "\t ...\n",
      "\t 15\n"
     ]
    }
   ],
   "source": [
    "corpus_sentences = list(corpus_sentences)\n",
    "print(\"Encode the corpus. This might take a while\")\n",
    "corpus_embeddings = model.encode(corpus_sentences, batch_size=64, show_progress_bar=True, convert_to_tensor=True)\n",
    "\n",
    "\n",
    "print(\"Start clustering\")\n",
    "start_time = time.time()\n",
    "\n",
    "# Two parameters to tune:\n",
    "# min_cluster_size: Only consider cluster that have at least 25 elements\n",
    "# threshold: Consider sentence pairs with a cosine-similarity larger than threshold as similar\n",
    "clusters = util.community_detection(corpus_embeddings, min_community_size=1, threshold=0.8)\n",
    "\n",
    "print(f\"Clustering done after {time.time() - start_time:.2f} sec\")\n",
    "\n",
    "# Print for all clusters the top 3 and bottom 3 elements\n",
    "for i, cluster in enumerate(clusters):\n",
    "    print(f\"\\nCluster {i + 1}, #{len(cluster)} Elements \")\n",
    "    for sentence_id in cluster[0:3]:\n",
    "        print(\"\\t\", corpus_sentences[sentence_id])\n",
    "    print(\"\\t\", \"...\")\n",
    "    for sentence_id in cluster[-3:]:\n",
    "        print(\"\\t\", corpus_sentences[sentence_id])\n",
    "\n",
    "new_semantic_ids = np.array([0] * len(responses))\n",
    "\n",
    "for i, cluster in enumerate(clusters):\n",
    "    for idx in cluster:\n",
    "        new_semantic_ids[idx] = i"
   ]
  },
  {
   "cell_type": "code",
   "execution_count": 112,
   "id": "71888ad3",
   "metadata": {},
   "outputs": [
    {
     "data": {
      "text/html": [
       "<div>\n",
       "<style scoped>\n",
       "    .dataframe tbody tr th:only-of-type {\n",
       "        vertical-align: middle;\n",
       "    }\n",
       "\n",
       "    .dataframe tbody tr th {\n",
       "        vertical-align: top;\n",
       "    }\n",
       "\n",
       "    .dataframe thead th {\n",
       "        text-align: right;\n",
       "    }\n",
       "</style>\n",
       "<table border=\"1\" class=\"dataframe\">\n",
       "  <thead>\n",
       "    <tr style=\"text-align: right;\">\n",
       "      <th></th>\n",
       "      <th>answer</th>\n",
       "      <th>semantic_id</th>\n",
       "      <th>new_semantic_id</th>\n",
       "    </tr>\n",
       "  </thead>\n",
       "  <tbody>\n",
       "    <tr>\n",
       "      <th>0</th>\n",
       "      <td>2</td>\n",
       "      <td>0</td>\n",
       "      <td>0</td>\n",
       "    </tr>\n",
       "    <tr>\n",
       "      <th>1</th>\n",
       "      <td>5</td>\n",
       "      <td>1</td>\n",
       "      <td>1</td>\n",
       "    </tr>\n",
       "    <tr>\n",
       "      <th>2</th>\n",
       "      <td>2</td>\n",
       "      <td>2</td>\n",
       "      <td>0</td>\n",
       "    </tr>\n",
       "    <tr>\n",
       "      <th>3</th>\n",
       "      <td>20</td>\n",
       "      <td>2</td>\n",
       "      <td>2</td>\n",
       "    </tr>\n",
       "    <tr>\n",
       "      <th>4</th>\n",
       "      <td>15</td>\n",
       "      <td>3</td>\n",
       "      <td>3</td>\n",
       "    </tr>\n",
       "  </tbody>\n",
       "</table>\n",
       "</div>"
      ],
      "text/plain": [
       "  answer semantic_id new_semantic_id\n",
       "0      2           0               0\n",
       "1      5           1               1\n",
       "2      2           2               0\n",
       "3     20           2               2\n",
       "4     15           3               3"
      ]
     },
     "execution_count": 112,
     "metadata": {},
     "output_type": "execute_result"
    },
    {
     "data": {
      "text/plain": [
       "<Figure size 1000x600 with 0 Axes>"
      ]
     },
     "metadata": {},
     "output_type": "display_data"
    }
   ],
   "source": [
    "# print the sentences, their semantic id and the new semantic id in a table\n",
    "\n",
    "import pandas as pd\n",
    "import matplotlib.pyplot as plt\n",
    "import seaborn as sns\n",
    "\n",
    "plt.figure(figsize=(10, 6))\n",
    "sns.set_palette(\"husl\", 8)\n",
    "sns.set_context(\"notebook\", font_scale=1.5)\n",
    "sns.set_style(\"whitegrid\")\n",
    "\n",
    "# Plot the answer and new semantic id and the semantic id\n",
    "df = pd.DataFrame({\n",
    "    'answer': corpus_sentences,\n",
    "    'semantic_id': semantic_ids,\n",
    "    'new_semantic_id': new_semantic_ids\n",
    "})\n",
    "df['semantic_id'] = df['semantic_id'].astype(str)\n",
    "df['new_semantic_id'] = df['new_semantic_id'].astype(str)\n",
    "\n",
    "\n",
    "df.head()"
   ]
  }
 ],
 "metadata": {
  "kernelspec": {
   "display_name": "kernel_language_entropy",
   "language": "python",
   "name": "python3"
  },
  "language_info": {
   "codemirror_mode": {
    "name": "ipython",
    "version": 3
   },
   "file_extension": ".py",
   "mimetype": "text/x-python",
   "name": "python",
   "nbconvert_exporter": "python",
   "pygments_lexer": "ipython3",
   "version": "3.11.11"
  }
 },
 "nbformat": 4,
 "nbformat_minor": 5
}
